{
 "cells": [
  {
   "cell_type": "code",
   "execution_count": 1,
   "id": "d391b548-84fd-4c83-b482-2b886d299733",
   "metadata": {},
   "outputs": [],
   "source": [
    "import pandas as pd\n",
    "import numpy as np\n",
    "import matplotlib.pyplot as plt\n",
    "import seaborn as sns\n",
    "import requests\n",
    "import math\n",
    "from scipy import stats\n",
    "import acquire as a\n",
    "import prepare as p\n",
    "\n",
    "# modeling\n",
    "import statsmodels.api as sm\n",
    "from statsmodels.tsa.api import Holt, ExponentialSmoothing"
   ]
  },
  {
   "cell_type": "markdown",
   "id": "c320de06-f538-4ef6-8f33-e82805cd0e42",
   "metadata": {},
   "source": [
    "### Stakeholder:\n",
    "\n",
    "VP of Product: Which product line should we expand?\n",
    "\n",
    "- Is there a product category that is particularly profitable for us?\n",
    "- Does one or another stand out in terms of sales volume?\n",
    "- Does this vary by customer segment?"
   ]
  },
  {
   "cell_type": "code",
   "execution_count": 2,
   "id": "0143521d-74b8-43a6-a209-f54c91443b96",
   "metadata": {},
   "outputs": [],
   "source": [
    "df = a.get_superstore_data()"
   ]
  },
  {
   "cell_type": "code",
   "execution_count": 3,
   "id": "38cf2d06-f5e3-4c8d-938d-a9280b85c847",
   "metadata": {},
   "outputs": [],
   "source": [
    "df = p.prepare_superstore(df)"
   ]
  },
  {
   "cell_type": "code",
   "execution_count": 4,
   "id": "232626b1-0ed0-40c5-b5f4-d7f709a363be",
   "metadata": {},
   "outputs": [
    {
     "name": "stdout",
     "output_type": "stream",
     "text": [
      "<class 'pandas.core.frame.DataFrame'>\n",
      "DatetimeIndex: 1734 entries, 2014-01-04 to 2017-12-30\n",
      "Data columns (total 20 columns):\n",
      " #   Column         Non-Null Count  Dtype         \n",
      "---  ------         --------------  -----         \n",
      " 0   Customer ID    1734 non-null   object        \n",
      " 1   Order ID       1734 non-null   object        \n",
      " 2   Ship Date      1734 non-null   datetime64[ns]\n",
      " 3   Ship Mode      1734 non-null   object        \n",
      " 4   Segment        1734 non-null   object        \n",
      " 5   Country        1734 non-null   object        \n",
      " 6   City           1734 non-null   object        \n",
      " 7   State          1734 non-null   object        \n",
      " 8   Postal Code    1734 non-null   float64       \n",
      " 9   Sales          1734 non-null   float64       \n",
      " 10  Quantity       1734 non-null   float64       \n",
      " 11  Discount       1734 non-null   float64       \n",
      " 12  Profit         1734 non-null   float64       \n",
      " 13  Category       1734 non-null   object        \n",
      " 14  Sub-Category   1734 non-null   object        \n",
      " 15  Customer Name  1734 non-null   object        \n",
      " 16  Product Name   1734 non-null   object        \n",
      " 17  Region Name    1734 non-null   object        \n",
      " 18  Sales Total    1734 non-null   float64       \n",
      " 19  Profitable     1734 non-null   int64         \n",
      "dtypes: datetime64[ns](1), float64(6), int64(1), object(12)\n",
      "memory usage: 284.5+ KB\n"
     ]
    }
   ],
   "source": [
    "df.info()"
   ]
  },
  {
   "cell_type": "code",
   "execution_count": 5,
   "id": "c2d57135-4691-483f-983c-e425011a95f3",
   "metadata": {},
   "outputs": [
    {
     "data": {
      "text/html": [
       "<div>\n",
       "<style scoped>\n",
       "    .dataframe tbody tr th:only-of-type {\n",
       "        vertical-align: middle;\n",
       "    }\n",
       "\n",
       "    .dataframe tbody tr th {\n",
       "        vertical-align: top;\n",
       "    }\n",
       "\n",
       "    .dataframe thead th {\n",
       "        text-align: right;\n",
       "    }\n",
       "</style>\n",
       "<table border=\"1\" class=\"dataframe\">\n",
       "  <thead>\n",
       "    <tr style=\"text-align: right;\">\n",
       "      <th></th>\n",
       "      <th>count</th>\n",
       "      <th>mean</th>\n",
       "      <th>std</th>\n",
       "      <th>min</th>\n",
       "      <th>25%</th>\n",
       "      <th>50%</th>\n",
       "      <th>75%</th>\n",
       "      <th>max</th>\n",
       "    </tr>\n",
       "  </thead>\n",
       "  <tbody>\n",
       "    <tr>\n",
       "      <th>Postal Code</th>\n",
       "      <td>1734.0</td>\n",
       "      <td>53501.926182</td>\n",
       "      <td>32180.245224</td>\n",
       "      <td>1841.0000</td>\n",
       "      <td>19143.0000</td>\n",
       "      <td>50315.00000</td>\n",
       "      <td>85705.00000</td>\n",
       "      <td>98661.000</td>\n",
       "    </tr>\n",
       "    <tr>\n",
       "      <th>Sales</th>\n",
       "      <td>1734.0</td>\n",
       "      <td>229.206358</td>\n",
       "      <td>532.862614</td>\n",
       "      <td>1.0800</td>\n",
       "      <td>16.6950</td>\n",
       "      <td>52.24500</td>\n",
       "      <td>209.91750</td>\n",
       "      <td>8159.952</td>\n",
       "    </tr>\n",
       "    <tr>\n",
       "      <th>Quantity</th>\n",
       "      <td>1734.0</td>\n",
       "      <td>3.794694</td>\n",
       "      <td>2.297407</td>\n",
       "      <td>1.0000</td>\n",
       "      <td>2.0000</td>\n",
       "      <td>3.00000</td>\n",
       "      <td>5.00000</td>\n",
       "      <td>14.000</td>\n",
       "    </tr>\n",
       "    <tr>\n",
       "      <th>Discount</th>\n",
       "      <td>1734.0</td>\n",
       "      <td>0.160110</td>\n",
       "      <td>0.206419</td>\n",
       "      <td>0.0000</td>\n",
       "      <td>0.0000</td>\n",
       "      <td>0.20000</td>\n",
       "      <td>0.20000</td>\n",
       "      <td>0.800</td>\n",
       "    </tr>\n",
       "    <tr>\n",
       "      <th>Profit</th>\n",
       "      <td>1734.0</td>\n",
       "      <td>21.880351</td>\n",
       "      <td>202.891949</td>\n",
       "      <td>-3839.9904</td>\n",
       "      <td>1.7024</td>\n",
       "      <td>8.07305</td>\n",
       "      <td>27.41445</td>\n",
       "      <td>3177.475</td>\n",
       "    </tr>\n",
       "    <tr>\n",
       "      <th>Sales Total</th>\n",
       "      <td>1734.0</td>\n",
       "      <td>1197.630083</td>\n",
       "      <td>3635.417038</td>\n",
       "      <td>1.2480</td>\n",
       "      <td>46.4560</td>\n",
       "      <td>172.47600</td>\n",
       "      <td>774.37900</td>\n",
       "      <td>65279.216</td>\n",
       "    </tr>\n",
       "    <tr>\n",
       "      <th>Profitable</th>\n",
       "      <td>1734.0</td>\n",
       "      <td>0.803922</td>\n",
       "      <td>0.397143</td>\n",
       "      <td>0.0000</td>\n",
       "      <td>1.0000</td>\n",
       "      <td>1.00000</td>\n",
       "      <td>1.00000</td>\n",
       "      <td>1.000</td>\n",
       "    </tr>\n",
       "  </tbody>\n",
       "</table>\n",
       "</div>"
      ],
      "text/plain": [
       "              count          mean           std        min         25%  \\\n",
       "Postal Code  1734.0  53501.926182  32180.245224  1841.0000  19143.0000   \n",
       "Sales        1734.0    229.206358    532.862614     1.0800     16.6950   \n",
       "Quantity     1734.0      3.794694      2.297407     1.0000      2.0000   \n",
       "Discount     1734.0      0.160110      0.206419     0.0000      0.0000   \n",
       "Profit       1734.0     21.880351    202.891949 -3839.9904      1.7024   \n",
       "Sales Total  1734.0   1197.630083   3635.417038     1.2480     46.4560   \n",
       "Profitable   1734.0      0.803922      0.397143     0.0000      1.0000   \n",
       "\n",
       "                     50%          75%        max  \n",
       "Postal Code  50315.00000  85705.00000  98661.000  \n",
       "Sales           52.24500    209.91750   8159.952  \n",
       "Quantity         3.00000      5.00000     14.000  \n",
       "Discount         0.20000      0.20000      0.800  \n",
       "Profit           8.07305     27.41445   3177.475  \n",
       "Sales Total    172.47600    774.37900  65279.216  \n",
       "Profitable       1.00000      1.00000      1.000  "
      ]
     },
     "execution_count": 5,
     "metadata": {},
     "output_type": "execute_result"
    }
   ],
   "source": [
    "df.describe() .T"
   ]
  },
  {
   "cell_type": "code",
   "execution_count": 6,
   "id": "b26b58af-5d77-4b1b-b45a-e4647f444d9c",
   "metadata": {},
   "outputs": [
    {
     "data": {
      "text/plain": [
       "Customer ID      0\n",
       "Order ID         0\n",
       "Ship Date        0\n",
       "Ship Mode        0\n",
       "Segment          0\n",
       "Country          0\n",
       "City             0\n",
       "State            0\n",
       "Postal Code      0\n",
       "Sales            0\n",
       "Quantity         0\n",
       "Discount         0\n",
       "Profit           0\n",
       "Category         0\n",
       "Sub-Category     0\n",
       "Customer Name    0\n",
       "Product Name     0\n",
       "Region Name      0\n",
       "Sales Total      0\n",
       "Profitable       0\n",
       "dtype: int64"
      ]
     },
     "execution_count": 6,
     "metadata": {},
     "output_type": "execute_result"
    }
   ],
   "source": [
    "df.isna().sum()"
   ]
  },
  {
   "cell_type": "code",
   "execution_count": 7,
   "id": "f305beca-7b04-403d-bfea-22fec2b842a8",
   "metadata": {},
   "outputs": [
    {
     "data": {
      "text/plain": [
       "Customer ID       525\n",
       "Order ID          841\n",
       "Ship Date         608\n",
       "Ship Mode           4\n",
       "Segment             3\n",
       "Country             1\n",
       "City              247\n",
       "State              41\n",
       "Postal Code       306\n",
       "Sales            1504\n",
       "Quantity           14\n",
       "Discount           12\n",
       "Profit           1589\n",
       "Category            3\n",
       "Sub-Category       17\n",
       "Customer Name     525\n",
       "Product Name     1091\n",
       "Region Name         4\n",
       "Sales Total      1536\n",
       "Profitable          2\n",
       "dtype: int64"
      ]
     },
     "execution_count": 7,
     "metadata": {},
     "output_type": "execute_result"
    }
   ],
   "source": [
    "df.nunique()"
   ]
  },
  {
   "cell_type": "markdown",
   "id": "0bd07a91-7df4-4a0b-870e-e7f02f6c0370",
   "metadata": {},
   "source": [
    "### Date Range: 2014-01-04 to 2017-12-30"
   ]
  },
  {
   "cell_type": "code",
   "execution_count": 8,
   "id": "1cc59a91-d307-4e56-99be-6fd15aa965c3",
   "metadata": {},
   "outputs": [],
   "source": [
    "train_slice = round(len(df) * 0.7)\n",
    "val_slice = round(len(df) * 0.85)"
   ]
  },
  {
   "cell_type": "code",
   "execution_count": 9,
   "id": "e88e9606-1a08-43ad-be63-8aeaa8e11356",
   "metadata": {},
   "outputs": [],
   "source": [
    "train = df[:train_slice]\n",
    "val = df[train_slice:val_slice]\n",
    "test = df[val_slice:]"
   ]
  },
  {
   "cell_type": "code",
   "execution_count": 10,
   "id": "54264ad6-934b-4fab-955b-7f7b8e0f6f09",
   "metadata": {},
   "outputs": [
    {
     "data": {
      "text/plain": [
       "True"
      ]
     },
     "execution_count": 10,
     "metadata": {},
     "output_type": "execute_result"
    }
   ],
   "source": [
    "len(df) == len(train) + len(val) + len(test)"
   ]
  },
  {
   "cell_type": "code",
   "execution_count": 11,
   "id": "d4557746-7e93-4e67-896a-4ae4ccd42608",
   "metadata": {},
   "outputs": [],
   "source": [
    "profit_df = train.Profit.resample('D').sum()"
   ]
  },
  {
   "cell_type": "code",
   "execution_count": 12,
   "id": "072d7bed-d4c4-4266-885e-a04b7867e546",
   "metadata": {},
   "outputs": [
    {
     "data": {
      "image/png": "[encoded data removed]",
      "text/plain": [
       "<Figure size 640x480 with 4 Axes>"
      ]
     },
     "metadata": {},
     "output_type": "display_data"
    }
   ],
   "source": [
    "sm.tsa.seasonal_decompose(profit_df.resample('W').mean()).plot()\n",
    "None"
   ]
  },
  {
   "cell_type": "markdown",
   "id": "63001841-557c-4307-9f39-3b375a88fc49",
   "metadata": {},
   "source": [
    "Note:\n",
    "- Looks synthetic\n",
    "- Profit spike in march"
   ]
  },
  {
   "cell_type": "markdown",
   "id": "18d99dc5-828e-4a79-8d9e-824a456c1188",
   "metadata": {
    "jupyter": {
     "outputs_hidden": true
    },
    "tags": []
   },
   "source": [
    "for col in train.columns:\n",
    "    plt.figure(figsize=(10,6))\n",
    "    plt.axhspan(0, train['Profit'].min(), facecolor='red', alpha=0.3)\n",
    "    plt.axhspan(0, train['Profit'].max(), facecolor='palegreen', alpha=0.3)\n",
    "    plt.scatter(train[col], train['Profit'], color='#377eb8', label = 'Train', marker = '.')\n",
    "    plt.legend()\n",
    "    plt.ylabel('Profit')\n",
    "    plt.title(col)\n",
    "    plt.show()"
   ]
  },
  {
   "cell_type": "code",
   "execution_count": 13,
   "id": "34710c43-d5d3-40a5-b77c-f36d0847eae8",
   "metadata": {},
   "outputs": [
    {
     "data": {
      "text/plain": [
       "Index(['Customer ID', 'Order ID', 'Ship Date', 'Ship Mode', 'Segment',\n",
       "       'Country', 'City', 'State', 'Postal Code', 'Sales', 'Quantity',\n",
       "       'Discount', 'Profit', 'Category', 'Sub-Category', 'Customer Name',\n",
       "       'Product Name', 'Region Name', 'Sales Total', 'Profitable'],\n",
       "      dtype='object')"
      ]
     },
     "execution_count": 13,
     "metadata": {},
     "output_type": "execute_result"
    }
   ],
   "source": [
    "train.columns"
   ]
  },
  {
   "cell_type": "code",
   "execution_count": 14,
   "id": "d8ba4c1b-ec40-404f-be15-bbbcc8b0e245",
   "metadata": {},
   "outputs": [],
   "source": [
    "target_column = 'Profitable'\n",
    "target_col = 'Profit'"
   ]
  },
  {
   "cell_type": "code",
   "execution_count": 15,
   "id": "115b63b6-a735-43c1-8d2c-f6f22e9e76d2",
   "metadata": {},
   "outputs": [],
   "source": [
    "def t_test_cats(train, target_column, alpha = 0.05):\n",
    "    \"\"\"\n",
    "    Input DataFrame and a string of the target_column name.\n",
    "    Performs chi^2 test with a default alpha of 0.05 on each categorical feature.\n",
    "    Prints a visualization and list of columns whos data occures exclusivly \n",
    "    in the target group or non-target group.\n",
    "    \"\"\"\n",
    "\n",
    "    #Lists to hold variables\n",
    "    distros = []\n",
    "    drivers = []\n",
    "    non_drivers = []\n",
    "    t_test_result = []\n",
    "    \n",
    "    #This snags int columns and drops those that have more than 2 values.\n",
    "    plot_df = train.select_dtypes(exclude=['object', 'bool', 'datetime'])\n",
    "    \n",
    "    #Seperating target rows\n",
    "    target_df = plot_df[plot_df[target_column] == 1]\n",
    "\n",
    "    #Warning that the below is prefered... IDK why:\n",
    "    #df.loc[:,('one','second')]\n",
    "    target_df.drop(columns=target_column, inplace = True)\n",
    "    \n",
    "    #Seperating non-target rows\n",
    "    not_target = plot_df[plot_df[target_column] == 0]\n",
    "    not_target.drop(columns=target_column, inplace = True)\n",
    "    \n",
    "    #Creating the Target Indication DataFrame\n",
    "\n",
    "    for item in target_df:\n",
    "        target = round(target_df[item].mean(),3)\n",
    "        not_tar = round(not_target[item].mean(),3)\n",
    "        if item == 'UDI':\n",
    "            pass\n",
    "        else:\n",
    "            output = {\"Column\" : item,\n",
    "                      \"Target %\": target, \n",
    "                      \"Not Target %\": not_tar,\n",
    "                      \"Target Indication\":(target - not_tar)}\n",
    "\n",
    "            distros.append(output)\n",
    "\n",
    "    #This turns the info into a DataFrame\n",
    "    distro_df = pd.DataFrame(distros)              \n",
    "    distro_df = distro_df.set_index('Column')\n",
    "\n",
    "    #Seperate out columns to investigate, Target Indication = 1 or -1\n",
    "\n",
    "    for feature in distro_df.T:\n",
    "\n",
    "    # Let's run a chi squared to compare proportions, to have more confidence\n",
    "        null_hypothesis = f'{feature} and {target_column} have no difference in means.'\n",
    "        alternative_hypothesis = f'there is a difference in means between {feature} and {target_column}'\n",
    "\n",
    "        #Stats test\n",
    "        t_stat, p_value = stats.ttest_ind(target_df[feature], not_target[feature])\n",
    "\n",
    "        #Answer logic\n",
    "        if p_value < alpha:\n",
    "            t_test_result.append('Different Means')\n",
    "\n",
    "        else:\n",
    "            t_test_result.append('Similar Means')\n",
    "        \n",
    "    distro_df['t_test_result'] = t_test_result\n",
    "\n",
    "    \n",
    "    #Plotting the relationship with the target variable (and stats test result)\n",
    "    my_range=range(1,len(distro_df.index) + 1)\n",
    "    hue_colors = {'Different Means': 'green', 'Similar Means':'red'}\n",
    "    style_order = {'Different Means': 'o', 'Similar Means':'x'}\n",
    "\n",
    "    plt.figure(figsize=(6,4))\n",
    "    plt.axvline(0, c='tomato', alpha=.6)\n",
    "\n",
    "    plt.hlines(y=my_range, xmin=-2500, xmax=500, color='grey', alpha=0.4)\n",
    "    sns.scatterplot(data=distro_df, x='Target Indication',\n",
    "                    y=my_range, hue='t_test_result', palette=hue_colors,\n",
    "                    style='t_test_result', style_order=style_order)\n",
    "    plt.legend(title='T-test result')\n",
    "\n",
    "    # Add title and axis names\n",
    "    plt.yticks(my_range, distro_df.index)\n",
    "    plt.title(f'Comparison of profitable versus not profitable', loc='center')\n",
    "    plt.xlabel('T-Statistic')\n",
    "    plt.ylabel('Feature')\n",
    "    "
   ]
  },
  {
   "cell_type": "code",
   "execution_count": 16,
   "id": "b047a3a1-1902-449e-9c37-76bd4b5fef9c",
   "metadata": {},
   "outputs": [
    {
     "data": {
      "image/png": "[encoded data removed]",
      "text/plain": [
       "<Figure size 600x400 with 1 Axes>"
      ]
     },
     "metadata": {},
     "output_type": "display_data"
    }
   ],
   "source": [
    "t_test_cats(train, target_column)"
   ]
  },
  {
   "cell_type": "code",
   "execution_count": 17,
   "id": "205a215b-4c57-4ec1-8751-ef5146d0343e",
   "metadata": {},
   "outputs": [],
   "source": [
    "def correlation_test(df, target_col, alpha=0.05):\n",
    "    \"\"\"\n",
    "    Maybe create a function that automatically seperates continuous from discrete columns.\n",
    "    \"\"\"\n",
    "    \n",
    "    list_of_cols = df.select_dtypes(include=[int, float]).columns\n",
    "              \n",
    "    metrics = []\n",
    "    for col in list_of_cols:\n",
    "        result = stats.anderson(df[col])\n",
    "        #Checks skew to pick a test\n",
    "        if (result.statistic < result.critical_values[0]) and (len(df[col]) > 100):\n",
    "            corr, p_value = stats.pearsonr(df[target_col], df[col])\n",
    "            test_type = '(P)'\n",
    "        else:\n",
    "            # I'm unsure how this handles columns with null values in it.\n",
    "            corr, p_value = stats.spearmanr(df[target_col],\n",
    "                                            df[col], nan_policy='omit')\n",
    "            test_type = '(S)'\n",
    "\n",
    "        #Answer logic\n",
    "        if p_value < alpha:\n",
    "            test_result = 'relationship'\n",
    "        else:\n",
    "            test_result = 'independent'\n",
    "        if col == target_col:\n",
    "            pass\n",
    "        else:\n",
    "            temp_metrics = {\"Column\":f'{col} {test_type}',\n",
    "                        \"Correlation\": corr,\n",
    "                        \"P Value\": p_value,\n",
    "                        \"Test Result\": test_result}\n",
    "            metrics.append(temp_metrics)\n",
    "    distro_df = pd.DataFrame(metrics)              \n",
    "    distro_df = distro_df.set_index('Column')\n",
    "\n",
    "    #Plotting the relationship with the target variable (and stats test result)\n",
    "    my_range=range(1,len(distro_df.index) + 1)\n",
    "    hue_colors = {'relationship': 'green', 'independent':'red'}\n",
    "\n",
    "    plt.figure(figsize=(5,4))\n",
    "    plt.axvline(0, c='tomato', alpha=.6)\n",
    "\n",
    "    plt.hlines(y=my_range, xmin=-1, xmax=1, color='grey', alpha=0.4)\n",
    "    sns.scatterplot(data=distro_df, x=\"Correlation\",\n",
    "                    y=my_range, hue=\"Test Result\", palette=hue_colors,\n",
    "                    style=\"Test Result\", style_order= hue_colors)\n",
    "    plt.legend(title=\"Stats test result\")\n",
    "\n",
    "    # Add title and axis names\n",
    "    plt.yticks(my_range, distro_df.index)\n",
    "    plt.title(f'Statistics tests of {target_col}', loc='center')\n",
    "    plt.xlabel('Neg Correlation            No Correlation            Pos Correlation')\n",
    "    plt.ylabel('Feature')\n",
    "    \n",
    "    #Saves plot when it has a name and uncommented\n",
    "    #plt.savefig(f'{train.name}.png')\n"
   ]
  },
  {
   "cell_type": "code",
   "execution_count": 18,
   "id": "12783d38-6067-4ac8-9417-cefe8aa060c4",
   "metadata": {},
   "outputs": [
    {
     "data": {
      "image/png": "[encoded data removed]",
      "text/plain": [
       "<Figure size 500x400 with 1 Axes>"
      ]
     },
     "metadata": {},
     "output_type": "display_data"
    }
   ],
   "source": [
    "correlation_test(df, target_col)"
   ]
  },
  {
   "cell_type": "code",
   "execution_count": 19,
   "id": "1542f23b-2513-4410-90b6-6b408f025f26",
   "metadata": {},
   "outputs": [
    {
     "data": {
      "text/plain": [
       "28.81244999999999"
      ]
     },
     "execution_count": 19,
     "metadata": {},
     "output_type": "execute_result"
    }
   ],
   "source": [
    "train.Profit.quantile(q=.75)"
   ]
  },
  {
   "cell_type": "code",
   "execution_count": 20,
   "id": "99246b72-7155-4460-9f89-e00d76fb5e50",
   "metadata": {},
   "outputs": [
    {
     "data": {
      "text/plain": [
       "Phones         48\n",
       "Accessories    47\n",
       "Paper          38\n",
       "Chairs         32\n",
       "Appliances     21\n",
       "Binders        20\n",
       "Storage        19\n",
       "Furnishings    18\n",
       "Tables         16\n",
       "Envelopes      16\n",
       "Copiers         8\n",
       "Labels          8\n",
       "Machines        8\n",
       "Bookcases       7\n",
       "Art             6\n",
       "Name: Sub-Category, dtype: int64"
      ]
     },
     "execution_count": 20,
     "metadata": {},
     "output_type": "execute_result"
    }
   ],
   "source": [
    "train[train.Profit > 28.0]['Sub-Category'].value_counts()"
   ]
  },
  {
   "cell_type": "code",
   "execution_count": 21,
   "id": "fdc97b03-c6ae-4bf2-bb59-cd75e7c799f3",
   "metadata": {},
   "outputs": [
    {
     "data": {
      "text/plain": [
       "Office Supplies    128\n",
       "Technology         111\n",
       "Furniture           73\n",
       "Name: Category, dtype: int64"
      ]
     },
     "execution_count": 21,
     "metadata": {},
     "output_type": "execute_result"
    }
   ],
   "source": [
    "train[train.Profit > 28.0]['Category'].value_counts()"
   ]
  },
  {
   "cell_type": "code",
   "execution_count": 22,
   "id": "f4fc624b-6c5c-4d9f-88a6-75eb8176abde",
   "metadata": {},
   "outputs": [
    {
     "data": {
      "text/plain": [
       "5508.287399999998"
      ]
     },
     "execution_count": 22,
     "metadata": {},
     "output_type": "execute_result"
    }
   ],
   "source": [
    "train[train['Sub-Category'] == 'Phones']['Profit'].sum()"
   ]
  },
  {
   "cell_type": "code",
   "execution_count": 23,
   "id": "208622d5-3947-4da2-8de7-2922b4ae709a",
   "metadata": {},
   "outputs": [
    {
     "data": {
      "text/plain": [
       "5401.9708"
      ]
     },
     "execution_count": 23,
     "metadata": {},
     "output_type": "execute_result"
    }
   ],
   "source": [
    "train[train['Sub-Category'] == 'Accessories']['Profit'].sum()"
   ]
  },
  {
   "cell_type": "code",
   "execution_count": 24,
   "id": "dd035d7d-fd0c-4f3e-ad1b-5dc15c821db1",
   "metadata": {},
   "outputs": [
    {
     "data": {
      "text/plain": [
       "4200.3114000000005"
      ]
     },
     "execution_count": 24,
     "metadata": {},
     "output_type": "execute_result"
    }
   ],
   "source": [
    "train[train['Sub-Category'] == 'Paper']['Profit'].sum()"
   ]
  },
  {
   "cell_type": "code",
   "execution_count": 25,
   "id": "b46bff87-007c-462c-a177-1f85b4579a7a",
   "metadata": {},
   "outputs": [
    {
     "data": {
      "text/plain": [
       "14143.287499999995"
      ]
     },
     "execution_count": 25,
     "metadata": {},
     "output_type": "execute_result"
    }
   ],
   "source": [
    "train[train['Category'] == 'Office Supplies']['Profit'].sum()"
   ]
  },
  {
   "cell_type": "code",
   "execution_count": 26,
   "id": "5dc1fa67-e297-4d2f-985e-ba0713dc25a3",
   "metadata": {},
   "outputs": [
    {
     "data": {
      "text/plain": [
       "17219.959499999997"
      ]
     },
     "execution_count": 26,
     "metadata": {},
     "output_type": "execute_result"
    }
   ],
   "source": [
    "train[train['Category'] == 'Technology']['Profit'].sum()"
   ]
  },
  {
   "cell_type": "code",
   "execution_count": 27,
   "id": "2dff6337-076a-4b86-a4f8-4f502b2cbbc3",
   "metadata": {},
   "outputs": [
    {
     "data": {
      "text/plain": [
       "-596.527400000004"
      ]
     },
     "execution_count": 27,
     "metadata": {},
     "output_type": "execute_result"
    }
   ],
   "source": [
    "train[train['Category'] == 'Furniture']['Profit'].sum()"
   ]
  },
  {
   "cell_type": "code",
   "execution_count": 28,
   "id": "a5788f5c-6469-4e01-8aad-707b0417787e",
   "metadata": {},
   "outputs": [],
   "source": [
    "tech_stuff = train[train['Category'] == 'Technology']"
   ]
  },
  {
   "cell_type": "code",
   "execution_count": 29,
   "id": "95d50db9-6bf9-45c4-9ff8-0efaefa2a692",
   "metadata": {},
   "outputs": [],
   "source": [
    "office_stuff = train[train['Category'] == 'Office Supplies']"
   ]
  },
  {
   "cell_type": "code",
   "execution_count": 30,
   "id": "ef13064f-267b-4256-ad34-b236c23a6278",
   "metadata": {},
   "outputs": [
    {
     "data": {
      "text/plain": [
       "Phones         106\n",
       "Accessories     99\n",
       "Machines        16\n",
       "Copiers          8\n",
       "Name: Sub-Category, dtype: int64"
      ]
     },
     "execution_count": 30,
     "metadata": {},
     "output_type": "execute_result"
    }
   ],
   "source": [
    "tech_stuff['Sub-Category'].value_counts()"
   ]
  },
  {
   "cell_type": "code",
   "execution_count": 31,
   "id": "e0044edc-fe96-46ff-bc52-d7dc46e87c74",
   "metadata": {},
   "outputs": [
    {
     "data": {
      "text/plain": [
       "Binders       177\n",
       "Paper         156\n",
       "Storage       120\n",
       "Art           100\n",
       "Appliances     47\n",
       "Labels         46\n",
       "Envelopes      37\n",
       "Fasteners      33\n",
       "Supplies       22\n",
       "Name: Sub-Category, dtype: int64"
      ]
     },
     "execution_count": 31,
     "metadata": {},
     "output_type": "execute_result"
    }
   ],
   "source": [
    "office_stuff['Sub-Category'].value_counts()"
   ]
  },
  {
   "cell_type": "code",
   "execution_count": 32,
   "id": "ece35f7d-f6ab-43b5-bc80-b56a86f0b817",
   "metadata": {},
   "outputs": [
    {
     "data": {
      "text/plain": [
       "5508.287399999998"
      ]
     },
     "execution_count": 32,
     "metadata": {},
     "output_type": "execute_result"
    }
   ],
   "source": [
    "tech_stuff[tech_stuff['Sub-Category'] == 'Phones']['Profit'].sum()"
   ]
  },
  {
   "cell_type": "code",
   "execution_count": 33,
   "id": "bb85f4d4-884f-4415-8680-fab768f2ed18",
   "metadata": {},
   "outputs": [
    {
     "data": {
      "text/plain": [
       "5401.9708"
      ]
     },
     "execution_count": 33,
     "metadata": {},
     "output_type": "execute_result"
    }
   ],
   "source": [
    "tech_stuff[tech_stuff['Sub-Category'] == 'Accessories']['Profit'].sum()"
   ]
  },
  {
   "cell_type": "code",
   "execution_count": 34,
   "id": "95da74c5-9eea-4d6a-b39b-4c9929943ff2",
   "metadata": {},
   "outputs": [
    {
     "data": {
      "text/plain": [
       "2526.278199999998"
      ]
     },
     "execution_count": 34,
     "metadata": {},
     "output_type": "execute_result"
    }
   ],
   "source": [
    "tech_stuff[tech_stuff['Sub-Category'] == 'Machines']['Profit'].sum()"
   ]
  },
  {
   "cell_type": "code",
   "execution_count": 35,
   "id": "0d9848ec-8053-4e23-a30b-f0e98673dac1",
   "metadata": {
    "tags": []
   },
   "outputs": [
    {
     "data": {
      "text/plain": [
       "3889.4513999999986"
      ]
     },
     "execution_count": 35,
     "metadata": {},
     "output_type": "execute_result"
    }
   ],
   "source": [
    "office_stuff[office_stuff['Sub-Category'] == 'Binders']['Profit'].sum()"
   ]
  },
  {
   "cell_type": "code",
   "execution_count": 36,
   "id": "b4b6337c-f927-4fba-b16b-d21680a56997",
   "metadata": {},
   "outputs": [
    {
     "data": {
      "text/plain": [
       "4200.3114000000005"
      ]
     },
     "execution_count": 36,
     "metadata": {},
     "output_type": "execute_result"
    }
   ],
   "source": [
    "office_stuff[office_stuff['Sub-Category'] == 'Paper']['Profit'].sum()"
   ]
  },
  {
   "cell_type": "code",
   "execution_count": 37,
   "id": "8b2ef911-f77c-4ff7-a7fc-1e47a79be394",
   "metadata": {},
   "outputs": [
    {
     "data": {
      "text/plain": [
       "1445.3633999999995"
      ]
     },
     "execution_count": 37,
     "metadata": {},
     "output_type": "execute_result"
    }
   ],
   "source": [
    "office_stuff[office_stuff['Sub-Category'] == 'Storage']['Profit'].sum()"
   ]
  },
  {
   "cell_type": "code",
   "execution_count": 38,
   "id": "c61127f6-3547-401c-b437-05d6f71d0d62",
   "metadata": {},
   "outputs": [
    {
     "data": {
      "text/plain": [
       "917.9125999999999"
      ]
     },
     "execution_count": 38,
     "metadata": {},
     "output_type": "execute_result"
    }
   ],
   "source": [
    "office_stuff[office_stuff['Sub-Category'] == 'Art']['Profit'].sum()"
   ]
  },
  {
   "cell_type": "code",
   "execution_count": 39,
   "id": "b781aa7f-33da-4f14-ba4f-0dbe1f2b1b48",
   "metadata": {},
   "outputs": [
    {
     "data": {
      "text/plain": [
       "427.0"
      ]
     },
     "execution_count": 39,
     "metadata": {},
     "output_type": "execute_result"
    }
   ],
   "source": [
    "tech_stuff[tech_stuff['Sub-Category'] == 'Phones']['Quantity'].sum()"
   ]
  },
  {
   "cell_type": "code",
   "execution_count": 40,
   "id": "c3ab87dd-378d-46c9-92b0-32f28fd9aa36",
   "metadata": {},
   "outputs": [
    {
     "data": {
      "text/plain": [
       "350.0"
      ]
     },
     "execution_count": 40,
     "metadata": {},
     "output_type": "execute_result"
    }
   ],
   "source": [
    "tech_stuff[tech_stuff['Sub-Category'] == 'Accessories']['Quantity'].sum()"
   ]
  },
  {
   "cell_type": "code",
   "execution_count": 41,
   "id": "c035de7c-32dc-4e8f-afba-39fac6c0d465",
   "metadata": {},
   "outputs": [
    {
     "data": {
      "text/plain": [
       "75.0"
      ]
     },
     "execution_count": 41,
     "metadata": {},
     "output_type": "execute_result"
    }
   ],
   "source": [
    "tech_stuff[tech_stuff['Sub-Category'] == 'Machines']['Quantity'].sum()"
   ]
  },
  {
   "cell_type": "code",
   "execution_count": 42,
   "id": "01bec97d-e79e-4782-a484-29ccc5f63e95",
   "metadata": {
    "tags": []
   },
   "outputs": [
    {
     "data": {
      "text/plain": [
       "677.0"
      ]
     },
     "execution_count": 42,
     "metadata": {},
     "output_type": "execute_result"
    }
   ],
   "source": [
    "office_stuff[office_stuff['Sub-Category'] == 'Binders']['Quantity'].sum()"
   ]
  },
  {
   "cell_type": "code",
   "execution_count": 43,
   "id": "f470b5a9-82cf-4ed1-8de4-7f97b07e68f0",
   "metadata": {},
   "outputs": [
    {
     "data": {
      "text/plain": [
       "584.0"
      ]
     },
     "execution_count": 43,
     "metadata": {},
     "output_type": "execute_result"
    }
   ],
   "source": [
    "office_stuff[office_stuff['Sub-Category'] == 'Paper']['Quantity'].sum()"
   ]
  },
  {
   "cell_type": "code",
   "execution_count": 44,
   "id": "558368a9-09b1-4e95-91fa-3acec8d93632",
   "metadata": {},
   "outputs": [
    {
     "data": {
      "text/plain": [
       "444.0"
      ]
     },
     "execution_count": 44,
     "metadata": {},
     "output_type": "execute_result"
    }
   ],
   "source": [
    "office_stuff[office_stuff['Sub-Category'] == 'Storage']['Quantity'].sum()"
   ]
  },
  {
   "cell_type": "code",
   "execution_count": 45,
   "id": "2ee3b99b-3124-4261-ae06-13aa9eeb74fd",
   "metadata": {},
   "outputs": [
    {
     "data": {
      "text/plain": [
       "372.0"
      ]
     },
     "execution_count": 45,
     "metadata": {},
     "output_type": "execute_result"
    }
   ],
   "source": [
    "office_stuff[office_stuff['Sub-Category'] == 'Art']['Quantity'].sum()"
   ]
  },
  {
   "cell_type": "code",
   "execution_count": 46,
   "id": "e8c13acf-002e-45e8-bb84-bf0681fabfb2",
   "metadata": {},
   "outputs": [],
   "source": [
    "#train[train.Quantity > 10]"
   ]
  },
  {
   "cell_type": "code",
   "execution_count": null,
   "id": "b3dd6424-ec1d-4d41-bd8c-9bf7230b2bcd",
   "metadata": {},
   "outputs": [],
   "source": []
  }
 ],
 "metadata": {
  "kernelspec": {
   "display_name": "Python 3 (ipykernel)",
   "language": "python",
   "name": "python3"
  },
  "language_info": {
   "codemirror_mode": {
    "name": "ipython",
    "version": 3
   },
   "file_extension": ".py",
   "mimetype": "text/x-python",
   "name": "python",
   "nbconvert_exporter": "python",
   "pygments_lexer": "ipython3",
   "version": "3.9.15"
  }
 },
 "nbformat": 4,
 "nbformat_minor": 5
}

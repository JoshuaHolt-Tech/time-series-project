{
 "cells": [
  {
   "cell_type": "code",
   "execution_count": 1,
   "id": "d391b548-84fd-4c83-b482-2b886d299733",
   "metadata": {},
   "outputs": [],
   "source": [
    "import pandas as pd\n",
    "import numpy as np\n",
    "import matplotlib.pyplot as plt\n",
    "import seaborn as sns\n",
    "import requests\n",
    "import math\n",
    "\n",
    "import acquire as a\n",
    "import prepare as p"
   ]
  },
  {
   "cell_type": "markdown",
   "id": "c320de06-f538-4ef6-8f33-e82805cd0e42",
   "metadata": {},
   "source": [
    "### Stakeholder:\n",
    "\n",
    "VP of Product: Which product line should we expand?\n",
    "\n",
    "- Is there a product category that is particularly profitable for us?\n",
    "- Does one or another stand out in terms of sales volume?\n",
    "- Does this vary by customer segment?"
   ]
  },
  {
   "cell_type": "code",
   "execution_count": 2,
   "id": "0143521d-74b8-43a6-a209-f54c91443b96",
   "metadata": {},
   "outputs": [],
   "source": [
    "df = a.get_superstore_data()"
   ]
  },
  {
   "cell_type": "code",
   "execution_count": 3,
   "id": "38cf2d06-f5e3-4c8d-938d-a9280b85c847",
   "metadata": {},
   "outputs": [],
   "source": [
    "df = p.prepare_superstore(df)"
   ]
  },
  {
   "cell_type": "code",
   "execution_count": 4,
   "id": "232626b1-0ed0-40c5-b5f4-d7f709a363be",
   "metadata": {},
   "outputs": [
    {
     "name": "stdout",
     "output_type": "stream",
     "text": [
      "<class 'pandas.core.frame.DataFrame'>\n",
      "DatetimeIndex: 1734 entries, 2014-01-04 to 2017-12-30\n",
      "Data columns (total 19 columns):\n",
      " #   Column         Non-Null Count  Dtype         \n",
      "---  ------         --------------  -----         \n",
      " 0   Customer ID    1734 non-null   object        \n",
      " 1   Order ID       1734 non-null   object        \n",
      " 2   Ship Date      1734 non-null   datetime64[ns]\n",
      " 3   Ship Mode      1734 non-null   object        \n",
      " 4   Segment        1734 non-null   object        \n",
      " 5   Country        1734 non-null   object        \n",
      " 6   City           1734 non-null   object        \n",
      " 7   State          1734 non-null   object        \n",
      " 8   Postal Code    1734 non-null   float64       \n",
      " 9   Sales          1734 non-null   float64       \n",
      " 10  Quantity       1734 non-null   float64       \n",
      " 11  Discount       1734 non-null   float64       \n",
      " 12  Profit         1734 non-null   float64       \n",
      " 13  Category       1734 non-null   object        \n",
      " 14  Sub-Category   1734 non-null   object        \n",
      " 15  Customer Name  1734 non-null   object        \n",
      " 16  Product Name   1734 non-null   object        \n",
      " 17  Region Name    1734 non-null   object        \n",
      " 18  Sales Total    1734 non-null   float64       \n",
      "dtypes: datetime64[ns](1), float64(6), object(12)\n",
      "memory usage: 270.9+ KB\n"
     ]
    }
   ],
   "source": [
    "df.info()"
   ]
  },
  {
   "cell_type": "code",
   "execution_count": 5,
   "id": "c2d57135-4691-483f-983c-e425011a95f3",
   "metadata": {},
   "outputs": [
    {
     "data": {
      "text/html": [
       "<div>\n",
       "<style scoped>\n",
       "    .dataframe tbody tr th:only-of-type {\n",
       "        vertical-align: middle;\n",
       "    }\n",
       "\n",
       "    .dataframe tbody tr th {\n",
       "        vertical-align: top;\n",
       "    }\n",
       "\n",
       "    .dataframe thead th {\n",
       "        text-align: right;\n",
       "    }\n",
       "</style>\n",
       "<table border=\"1\" class=\"dataframe\">\n",
       "  <thead>\n",
       "    <tr style=\"text-align: right;\">\n",
       "      <th></th>\n",
       "      <th>count</th>\n",
       "      <th>mean</th>\n",
       "      <th>std</th>\n",
       "      <th>min</th>\n",
       "      <th>25%</th>\n",
       "      <th>50%</th>\n",
       "      <th>75%</th>\n",
       "      <th>max</th>\n",
       "    </tr>\n",
       "  </thead>\n",
       "  <tbody>\n",
       "    <tr>\n",
       "      <th>Postal Code</th>\n",
       "      <td>1734.0</td>\n",
       "      <td>53501.926182</td>\n",
       "      <td>32180.245224</td>\n",
       "      <td>1841.0000</td>\n",
       "      <td>19143.0000</td>\n",
       "      <td>50315.00000</td>\n",
       "      <td>85705.00000</td>\n",
       "      <td>98661.000</td>\n",
       "    </tr>\n",
       "    <tr>\n",
       "      <th>Sales</th>\n",
       "      <td>1734.0</td>\n",
       "      <td>229.206358</td>\n",
       "      <td>532.862614</td>\n",
       "      <td>1.0800</td>\n",
       "      <td>16.6950</td>\n",
       "      <td>52.24500</td>\n",
       "      <td>209.91750</td>\n",
       "      <td>8159.952</td>\n",
       "    </tr>\n",
       "    <tr>\n",
       "      <th>Quantity</th>\n",
       "      <td>1734.0</td>\n",
       "      <td>3.794694</td>\n",
       "      <td>2.297407</td>\n",
       "      <td>1.0000</td>\n",
       "      <td>2.0000</td>\n",
       "      <td>3.00000</td>\n",
       "      <td>5.00000</td>\n",
       "      <td>14.000</td>\n",
       "    </tr>\n",
       "    <tr>\n",
       "      <th>Discount</th>\n",
       "      <td>1734.0</td>\n",
       "      <td>0.160110</td>\n",
       "      <td>0.206419</td>\n",
       "      <td>0.0000</td>\n",
       "      <td>0.0000</td>\n",
       "      <td>0.20000</td>\n",
       "      <td>0.20000</td>\n",
       "      <td>0.800</td>\n",
       "    </tr>\n",
       "    <tr>\n",
       "      <th>Profit</th>\n",
       "      <td>1734.0</td>\n",
       "      <td>21.880351</td>\n",
       "      <td>202.891949</td>\n",
       "      <td>-3839.9904</td>\n",
       "      <td>1.7024</td>\n",
       "      <td>8.07305</td>\n",
       "      <td>27.41445</td>\n",
       "      <td>3177.475</td>\n",
       "    </tr>\n",
       "    <tr>\n",
       "      <th>Sales Total</th>\n",
       "      <td>1734.0</td>\n",
       "      <td>1197.630083</td>\n",
       "      <td>3635.417038</td>\n",
       "      <td>1.2480</td>\n",
       "      <td>46.4560</td>\n",
       "      <td>172.47600</td>\n",
       "      <td>774.37900</td>\n",
       "      <td>65279.216</td>\n",
       "    </tr>\n",
       "  </tbody>\n",
       "</table>\n",
       "</div>"
      ],
      "text/plain": [
       "              count          mean           std        min         25%  \\\n",
       "Postal Code  1734.0  53501.926182  32180.245224  1841.0000  19143.0000   \n",
       "Sales        1734.0    229.206358    532.862614     1.0800     16.6950   \n",
       "Quantity     1734.0      3.794694      2.297407     1.0000      2.0000   \n",
       "Discount     1734.0      0.160110      0.206419     0.0000      0.0000   \n",
       "Profit       1734.0     21.880351    202.891949 -3839.9904      1.7024   \n",
       "Sales Total  1734.0   1197.630083   3635.417038     1.2480     46.4560   \n",
       "\n",
       "                     50%          75%        max  \n",
       "Postal Code  50315.00000  85705.00000  98661.000  \n",
       "Sales           52.24500    209.91750   8159.952  \n",
       "Quantity         3.00000      5.00000     14.000  \n",
       "Discount         0.20000      0.20000      0.800  \n",
       "Profit           8.07305     27.41445   3177.475  \n",
       "Sales Total    172.47600    774.37900  65279.216  "
      ]
     },
     "execution_count": 5,
     "metadata": {},
     "output_type": "execute_result"
    }
   ],
   "source": [
    "df.describe() .T"
   ]
  },
  {
   "cell_type": "code",
   "execution_count": 6,
   "id": "b26b58af-5d77-4b1b-b45a-e4647f444d9c",
   "metadata": {},
   "outputs": [
    {
     "data": {
      "text/plain": [
       "Customer ID      0\n",
       "Order ID         0\n",
       "Ship Date        0\n",
       "Ship Mode        0\n",
       "Segment          0\n",
       "Country          0\n",
       "City             0\n",
       "State            0\n",
       "Postal Code      0\n",
       "Sales            0\n",
       "Quantity         0\n",
       "Discount         0\n",
       "Profit           0\n",
       "Category         0\n",
       "Sub-Category     0\n",
       "Customer Name    0\n",
       "Product Name     0\n",
       "Region Name      0\n",
       "Sales Total      0\n",
       "dtype: int64"
      ]
     },
     "execution_count": 6,
     "metadata": {},
     "output_type": "execute_result"
    }
   ],
   "source": [
    "df.isna().sum()"
   ]
  },
  {
   "cell_type": "code",
   "execution_count": 10,
   "id": "f305beca-7b04-403d-bfea-22fec2b842a8",
   "metadata": {},
   "outputs": [
    {
     "data": {
      "text/plain": [
       "Customer ID       525\n",
       "Order ID          841\n",
       "Ship Date         608\n",
       "Ship Mode           4\n",
       "Segment             3\n",
       "Country             1\n",
       "City              247\n",
       "State              41\n",
       "Postal Code       306\n",
       "Sales            1504\n",
       "Quantity           14\n",
       "Discount           12\n",
       "Profit           1589\n",
       "Category            3\n",
       "Sub-Category       17\n",
       "Customer Name     525\n",
       "Product Name     1091\n",
       "Region Name         4\n",
       "Sales Total      1536\n",
       "dtype: int64"
      ]
     },
     "execution_count": 10,
     "metadata": {},
     "output_type": "execute_result"
    }
   ],
   "source": [
    "df.nunique()"
   ]
  },
  {
   "cell_type": "code",
   "execution_count": 11,
   "id": "ee450a50-b0da-4c33-a969-47e89ae158d1",
   "metadata": {},
   "outputs": [],
   "source": [
    "df['Profitable'] = df.Profit > 0"
   ]
  },
  {
   "cell_type": "code",
   "execution_count": null,
   "id": "0c2e9c42-7942-46fa-8575-9e6ced5cc9b6",
   "metadata": {},
   "outputs": [],
   "source": [
    "df.Profitable.sum"
   ]
  }
 ],
 "metadata": {
  "kernelspec": {
   "display_name": "Python 3 (ipykernel)",
   "language": "python",
   "name": "python3"
  },
  "language_info": {
   "codemirror_mode": {
    "name": "ipython",
    "version": 3
   },
   "file_extension": ".py",
   "mimetype": "text/x-python",
   "name": "python",
   "nbconvert_exporter": "python",
   "pygments_lexer": "ipython3",
   "version": "3.9.15"
  }
 },
 "nbformat": 4,
 "nbformat_minor": 5
}
